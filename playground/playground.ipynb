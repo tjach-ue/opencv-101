{
 "cells": [
  {
   "cell_type": "code",
   "execution_count": null,
   "metadata": {
    "collapsed": true,
    "pycharm": {
     "name": "#%%\n"
    }
   },
   "outputs": [],
   "source": [
    "import cv2\n",
    "import numpy as np\n",
    "from matplotlib import pyplot as plt"
   ]
  },
  {
   "cell_type": "markdown",
   "source": [
    "W dziesiejszym odcinku:\n",
    "1. Wczytanie obrazka, wyświetlenie i konwersja do skali szarości\n",
    "2. Przekształcenia morfologiczne - open/close/erozja/dylatacja/low-pass/high-pass\n",
    "4. Dodawanie/odejmowanie/łączenie obrazków\n",
    "5. Progowanie i binaryzacja\n",
    "6. Detekcja krawędzi/linii\n",
    "7. Case study: liczenie obiektów/twarzy na obrazku"
   ],
   "metadata": {
    "collapsed": false,
    "pycharm": {
     "name": "#%% md\n"
    }
   }
  },
  {
   "cell_type": "code",
   "execution_count": null,
   "outputs": [],
   "source": [
    "# Wczytanie obrazka i konwersja do skali szarości\n",
    "image = cv2.imread('../samples/lena.png')\n",
    "RGB_im = cv2.cvtColor(image, cv2.COLOR_BGR2RGB)\n",
    "gray = cv2.cvtColor(image, cv2.COLOR_BGR2GRAY)"
   ],
   "metadata": {
    "collapsed": false,
    "pycharm": {
     "name": "#%%\n"
    }
   }
  },
  {
   "cell_type": "code",
   "execution_count": null,
   "outputs": [],
   "source": [
    "# wyświetlenie\n",
    "plt.imshow(RGB_im)"
   ],
   "metadata": {
    "collapsed": false,
    "pycharm": {
     "name": "#%%\n"
    }
   }
  },
  {
   "cell_type": "code",
   "execution_count": null,
   "outputs": [],
   "source": [
    "plt.imshow(gray, cmap='gray')"
   ],
   "metadata": {
    "collapsed": false,
    "pycharm": {
     "name": "#%%\n"
    }
   }
  },
  {
   "cell_type": "code",
   "execution_count": null,
   "outputs": [],
   "source": [
    "# Funkcje pomocnicze\n",
    "\n",
    "def morph(img) -> dict:\n",
    "    \"\"\"\n",
    "        Funkcja do demonstracji przeksztalcen morfologicznych\n",
    "    :param img: obraz wejsciowy\n",
    "    :return: slownik z wyjsciowymi obrazami\n",
    "    \"\"\"\n",
    "    kernel = np.ones((5,5),np.uint8)\n",
    "    morph_ops = { 'original': img,\n",
    "                 'erosion': cv2.erode(img, kernel, iterations=1),\n",
    "                 'dilation': cv2.dilate(img, kernel, iterations=1),\n",
    "                 'opening': cv2.morphologyEx(img, cv2.MORPH_OPEN, kernel),\n",
    "                 'closing': cv2.morphologyEx(img, cv2.MORPH_CLOSE, kernel),\n",
    "                 'gradient': cv2.morphologyEx(img, cv2.MORPH_GRADIENT, kernel),\n",
    "                 'tophat': cv2.morphologyEx(img, cv2.MORPH_TOPHAT, kernel),\n",
    "                 'blackhat': cv2.morphologyEx(img, cv2.MORPH_BLACKHAT, kernel)}\n",
    "    return morph_ops\n",
    "\n",
    "def img_is_color(img):\n",
    "    \"\"\"\n",
    "    Funkcja pomocnicza do sprawdzania przestrzeni kolorow obrazu\n",
    "    :param img: obrz wejsciowy\n",
    "    :return: True jesli obraz jest w skali szarosci\n",
    "    \"\"\"\n",
    "    if len(img.shape) == 3:\n",
    "        # Check the color channels to see if they're all the same.\n",
    "        c1, c2, c3 = img[:, : , 0], img[:, :, 1], img[:, :, 2]\n",
    "        if (c1 == c2).all() and (c2 == c3).all():\n",
    "            return True\n",
    "\n",
    "    return False\n",
    "\n",
    "def show_image_list(images: dict, grid=True, num_cols=2, figsize=(20, 10), title_fontsize=30):\n",
    "    \"\"\"\n",
    "    Funkcja pomocnicza do ladnego wyswietlania obrazow\n",
    "    :param images:\n",
    "    :param list_cmaps:\n",
    "    :param grid:\n",
    "    :param num_cols:\n",
    "    :param figsize:\n",
    "    :param title_fontsize:\n",
    "    \"\"\"\n",
    "    num_images  = len(images)\n",
    "    num_cols    = min(num_images, num_cols)\n",
    "    num_rows    = int(num_images / num_cols) + (1 if num_images % num_cols != 0 else 0)\n",
    "\n",
    "    # Create a grid of subplots.\n",
    "    fig, axes = plt.subplots(num_rows, num_cols, figsize=figsize)\n",
    "\n",
    "    # Create list of axes for easy iteration.\n",
    "    if isinstance(axes, np.ndarray):\n",
    "        list_axes = list(axes.flat)\n",
    "    else:\n",
    "        list_axes = [axes]\n",
    "    counter = 0\n",
    "    for label, imgg in images.items():\n",
    "        cmap   = None if img_is_color(imgg) else 'gray'\n",
    "        list_axes[counter].imshow(imgg, cmap=cmap)\n",
    "        list_axes[counter].set_title(label, fontsize=title_fontsize)\n",
    "        list_axes[counter].grid(grid)\n",
    "        counter+=1\n",
    "\n",
    "    for i in range(num_images, len(list_axes)):\n",
    "        list_axes[i].set_visible(False)\n",
    "\n",
    "    fig.tight_layout()\n",
    "    _ = plt.show()"
   ],
   "metadata": {
    "collapsed": false,
    "pycharm": {
     "name": "#%%\n"
    }
   }
  },
  {
   "cell_type": "code",
   "execution_count": null,
   "outputs": [],
   "source": [
    "# Przekształcenia morfologiczne - open/close/erozja/dylatacja/low-pass/high-pass\n",
    "img = cv2.imread('../samples/j.png')\n",
    "img = cv2.cvtColor(img, cv2.COLOR_BGR2RGB)\n",
    "\n",
    "show_image_list(morph(img),\n",
    "                num_cols=3,\n",
    "                figsize=(100, 100),\n",
    "                grid=False,\n",
    "                title_fontsize=50)"
   ],
   "metadata": {
    "collapsed": false,
    "pycharm": {
     "name": "#%%\n"
    }
   }
  },
  {
   "cell_type": "code",
   "execution_count": null,
   "outputs": [],
   "source": [
    "# Dodawanie/odejmowanie/łączenie obrazków\n",
    "circle = cv2.imread('../samples/circle.png')\n",
    "circle = cv2.cvtColor(circle, cv2.COLOR_BGR2GRAY)\n",
    "star = cv2.imread('../samples/star.png')\n",
    "star = cv2.cvtColor(star, cv2.COLOR_BGR2GRAY)\n",
    "\n",
    "combined = cv2.add(star, circle)\n",
    "subtracted = cv2.subtract(star, circle)\n",
    "show_image_list({'circle': circle, 'star': star, 'combined': combined, 'subtracted': subtracted},figsize=(10,10))"
   ],
   "metadata": {
    "collapsed": false,
    "pycharm": {
     "name": "#%%\n"
    }
   }
  },
  {
   "cell_type": "code",
   "execution_count": null,
   "outputs": [],
   "source": [
    "# Binaryzacja / progowanie\n",
    "img = cv2.imread('../samples/parrot.png')\n",
    "img = cv2.cvtColor(img, cv2.COLOR_BGR2GRAY)\n",
    "ret,thresh1 = cv2.threshold(img,127,255,cv2.THRESH_BINARY)\n",
    "_,thresh2 = cv2.threshold(img,127,255,cv2.THRESH_BINARY_INV)\n",
    "_,thresh3 = cv2.threshold(img,127,255,cv2.THRESH_TRUNC)\n",
    "_,thresh4 = cv2.threshold(img,127,255,cv2.THRESH_TOZERO)\n",
    "_,thresh5 = cv2.threshold(img,127,255,cv2.THRESH_TOZERO_INV)\n",
    "\n",
    "show_image_list({'original': img, 'THRESH_BINARY': thresh1, 'THRESH_BINARY_INV': thresh2, 'THRESH_TRUNC': thresh3, 'THRESH_TOZERO': thresh4, 'THRESH_TOZERO_INV': thresh5},figsize=(10,10))\n"
   ],
   "metadata": {
    "collapsed": false,
    "pycharm": {
     "name": "#%%\n"
    }
   }
  },
  {
   "cell_type": "code",
   "execution_count": null,
   "outputs": [],
   "source": [
    "# Progowanie adaptacyjne\n",
    "\n",
    "img = cv2.imread('../samples/sudoku.PNG')\n",
    "img = cv2.cvtColor(img, cv2.COLOR_BGR2GRAY)\n",
    "\n",
    "# img = cv2.medianBlur(img,5)\n",
    "_,th1 = cv2.threshold(img,127,255,cv2.THRESH_BINARY)\n",
    "th2 = cv2.adaptiveThreshold(img,255,cv2.ADAPTIVE_THRESH_MEAN_C,cv2.THRESH_BINARY,11,2)\n",
    "th3 = cv2.adaptiveThreshold(img,255,cv2.ADAPTIVE_THRESH_GAUSSIAN_C,cv2.THRESH_BINARY,11,2)\n",
    "\n",
    "show_image_list({'original': img, 'Global Thresholding (v = 127)': th1, 'Adaptive Mean Thresholding': th2, 'Adaptive Gaussian Thresholding': th3},figsize=(10,10))"
   ],
   "metadata": {
    "collapsed": false,
    "pycharm": {
     "name": "#%%\n"
    }
   }
  },
  {
   "cell_type": "code",
   "execution_count": null,
   "outputs": [],
   "source": [
    "# Detekcja krawędzi/linii\n",
    "\n",
    "img = cv2.imread('../samples/lena.png')\n",
    "img = cv2.cvtColor(img,cv2.COLOR_BGR2RGB)\n",
    "# Convert to graycsale\n",
    "img_gray = cv2.cvtColor(img, cv2.COLOR_BGR2GRAY)\n",
    "# Blur the image for better edge detection\n",
    "img_blur = cv2.GaussianBlur(img_gray, (3,3), 0)\n",
    "\n",
    "# Sobel Edge Detection\n",
    "sobelx = cv2.Sobel(src=img_blur, ddepth=cv2.CV_64F, dx=1, dy=0, ksize=5) # Sobel Edge Detection on the X axis\n",
    "sobely = cv2.Sobel(src=img_blur, ddepth=cv2.CV_64F, dx=0, dy=1, ksize=5) # Sobel Edge Detection on the Y axis\n",
    "sobelxy = cv2.Sobel(src=img_blur, ddepth=cv2.CV_64F, dx=1, dy=1, ksize=5) # Combined X and Y Sobel Edge Detection\n",
    "\n",
    "# Canny Edge Detection\n",
    "canny = cv2.Canny(image=img_blur, threshold1=100, threshold2=200) # Canny Edge Detection\n",
    "\n",
    "show_image_list({'original': img, 'Gray': img_gray, 'Blured': img_blur,\n",
    "                 'Sobel X': sobelx, 'Sobel Y': sobely, 'Sobel XY': sobelxy,\n",
    "                 'Canny': canny\n",
    "                 },\n",
    "                figsize=(20,20)\n",
    "                )\n"
   ],
   "metadata": {
    "collapsed": false,
    "pycharm": {
     "name": "#%%\n"
    }
   }
  },
  {
   "cell_type": "code",
   "execution_count": 63,
   "outputs": [
    {
     "ename": "IndentationError",
     "evalue": "unindent does not match any outer indentation level (<tokenize>, line 38)",
     "output_type": "error",
     "traceback": [
      "\u001B[1;36m  File \u001B[1;32m<tokenize>:38\u001B[1;36m\u001B[0m\n\u001B[1;33m    if cv2.waitKey(1) & 0xFF == ord('q'):\u001B[0m\n\u001B[1;37m    ^\u001B[0m\n\u001B[1;31mIndentationError\u001B[0m\u001B[1;31m:\u001B[0m unindent does not match any outer indentation level\n"
     ]
    }
   ],
   "source": [],
   "metadata": {
    "collapsed": false,
    "pycharm": {
     "name": "#%%\n"
    }
   }
  }
 ],
 "metadata": {
  "kernelspec": {
   "display_name": "Python 3",
   "language": "python",
   "name": "python3"
  },
  "language_info": {
   "codemirror_mode": {
    "name": "ipython",
    "version": 2
   },
   "file_extension": ".py",
   "mimetype": "text/x-python",
   "name": "python",
   "nbconvert_exporter": "python",
   "pygments_lexer": "ipython2",
   "version": "2.7.6"
  }
 },
 "nbformat": 4,
 "nbformat_minor": 0
}